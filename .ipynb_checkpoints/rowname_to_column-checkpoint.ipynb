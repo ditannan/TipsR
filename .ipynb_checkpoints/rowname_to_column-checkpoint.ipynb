{
 "cells": [
  {
   "cell_type": "markdown",
   "metadata": {},
   "source": [
    "## 前言\n",
    "前段时间在和小伙伴一起研究自动输出三线表时，遇到一个问题，就是将所得的一系列指标p值和指标summary表一一对应。说着有点抽象，简单点说就是怎么将一个向量根据名字合并到一个数据集中作为一列。"
   ]
  },
  {
   "cell_type": "markdown",
   "metadata": {},
   "source": [
    "#### 举个例子\n",
    "如下表df1所示，需要添加一列p值，而这个值已经提取在了一个向量p中，该怎么做呢？"
   ]
  },
  {
   "cell_type": "code",
   "execution_count": 1,
   "metadata": {},
   "outputs": [
    {
     "data": {
      "text/html": [
       "<table>\n",
       "<thead><tr><th scope=col>variables</th><th scope=col>mean1</th><th scope=col>mean2</th></tr></thead>\n",
       "<tbody>\n",
       "\t<tr><td>x1  </td><td> 5.6</td><td> 6.5</td></tr>\n",
       "\t<tr><td>x2  </td><td>12.0</td><td>10.0</td></tr>\n",
       "\t<tr><td>x3  </td><td>24.0</td><td>30.0</td></tr>\n",
       "</tbody>\n",
       "</table>\n"
      ],
      "text/latex": [
       "\\begin{tabular}{r|lll}\n",
       " variables & mean1 & mean2\\\\\n",
       "\\hline\n",
       "\t x1   &  5.6 &  6.5\\\\\n",
       "\t x2   & 12.0 & 10.0\\\\\n",
       "\t x3   & 24.0 & 30.0\\\\\n",
       "\\end{tabular}\n"
      ],
      "text/markdown": [
       "\n",
       "variables | mean1 | mean2 | \n",
       "|---|---|---|\n",
       "| x1   |  5.6 |  6.5 | \n",
       "| x2   | 12.0 | 10.0 | \n",
       "| x3   | 24.0 | 30.0 | \n",
       "\n",
       "\n"
      ],
      "text/plain": [
       "  variables mean1 mean2\n",
       "1 x1         5.6   6.5 \n",
       "2 x2        12.0  10.0 \n",
       "3 x3        24.0  30.0 "
      ]
     },
     "metadata": {},
     "output_type": "display_data"
    }
   ],
   "source": [
    "# create example df1\n",
    "df1 <- data.frame(\n",
    "  variables = c('x1', 'x2', 'x3'),\n",
    "  mean1 = c(5.6, 12, 24) ,\n",
    "  mean2 = c(6.5, 10, 30),\n",
    "  stringsAsFactors = FALSE\n",
    ")\n",
    "df1"
   ]
  },
  {
   "cell_type": "code",
   "execution_count": 2,
   "metadata": {},
   "outputs": [
    {
     "data": {
      "text/html": [
       "<ol class=list-inline>\n",
       "\t<li>0.02</li>\n",
       "\t<li>0.04</li>\n",
       "\t<li>0.001</li>\n",
       "</ol>\n"
      ],
      "text/latex": [
       "\\begin{enumerate*}\n",
       "\\item 0.02\n",
       "\\item 0.04\n",
       "\\item 0.001\n",
       "\\end{enumerate*}\n"
      ],
      "text/markdown": [
       "1. 0.02\n",
       "2. 0.04\n",
       "3. 0.001\n",
       "\n",
       "\n"
      ],
      "text/plain": [
       "[1] 0.020 0.040 0.001"
      ]
     },
     "metadata": {},
     "output_type": "display_data"
    }
   ],
   "source": [
    "(p <- c(0.02, 0.04, 0.001))"
   ]
  },
  {
   "cell_type": "markdown",
   "metadata": {},
   "source": [
    "**PS**:在R中可以通过将变量括号括起来，然后就会直接打印出来，在学习过程中可节省时间。"
   ]
  },
  {
   "cell_type": "markdown",
   "metadata": {},
   "source": [
    "有小伙伴会说直接将p转为数据框然后再merge一下就可以嘛。是的，但是如果我们得到的p值是x1和x3的p值，即0.02和0.001，那该怎么加进去呢。之所以有这种情况是因为我们输出三线表时有些变量时需要用多行的，如性别，就有男女两行来展现其数据。下面我们就来演示怎么将两个p值加入到数据框。"
   ]
  },
  {
   "cell_type": "markdown",
   "metadata": {},
   "source": [
    "## 开工"
   ]
  },
  {
   "cell_type": "code",
   "execution_count": 3,
   "metadata": {},
   "outputs": [
    {
     "data": {
      "text/html": [
       "<ol class=list-inline>\n",
       "\t<li>0.02</li>\n",
       "\t<li>0.001</li>\n",
       "</ol>\n"
      ],
      "text/latex": [
       "\\begin{enumerate*}\n",
       "\\item 0.02\n",
       "\\item 0.001\n",
       "\\end{enumerate*}\n"
      ],
      "text/markdown": [
       "1. 0.02\n",
       "2. 0.001\n",
       "\n",
       "\n"
      ],
      "text/plain": [
       "[1] 0.020 0.001"
      ]
     },
     "metadata": {},
     "output_type": "display_data"
    }
   ],
   "source": [
    "(p1 <- c(0.02, 0.001))"
   ]
  },
  {
   "cell_type": "markdown",
   "metadata": {},
   "source": [
    "先把p值和变量名字对应，对向量进行命名有多种形式："
   ]
  },
  {
   "cell_type": "code",
   "execution_count": 4,
   "metadata": {},
   "outputs": [
    {
     "data": {
      "text/html": [
       "<dl class=dl-horizontal>\n",
       "\t<dt>x1</dt>\n",
       "\t\t<dd>0.02</dd>\n",
       "\t<dt>x3</dt>\n",
       "\t\t<dd>0.001</dd>\n",
       "</dl>\n"
      ],
      "text/latex": [
       "\\begin{description*}\n",
       "\\item[x1] 0.02\n",
       "\\item[x3] 0.001\n",
       "\\end{description*}\n"
      ],
      "text/markdown": [
       "x1\n",
       ":   0.02x3\n",
       ":   0.001\n",
       "\n"
      ],
      "text/plain": [
       "   x1    x3 \n",
       "0.020 0.001 "
      ]
     },
     "metadata": {},
     "output_type": "display_data"
    }
   ],
   "source": [
    "(p11 <- c(x1 = 0.02, x3 = 0.001))"
   ]
  },
  {
   "cell_type": "code",
   "execution_count": 5,
   "metadata": {},
   "outputs": [
    {
     "data": {
      "text/html": [
       "<dl class=dl-horizontal>\n",
       "\t<dt>x1</dt>\n",
       "\t\t<dd>0.02</dd>\n",
       "\t<dt>x3</dt>\n",
       "\t\t<dd>0.001</dd>\n",
       "</dl>\n"
      ],
      "text/latex": [
       "\\begin{description*}\n",
       "\\item[x1] 0.02\n",
       "\\item[x3] 0.001\n",
       "\\end{description*}\n"
      ],
      "text/markdown": [
       "x1\n",
       ":   0.02x3\n",
       ":   0.001\n",
       "\n"
      ],
      "text/plain": [
       "   x1    x3 \n",
       "0.020 0.001 "
      ]
     },
     "metadata": {},
     "output_type": "display_data"
    }
   ],
   "source": [
    "# 或者\n",
    "(p11 <- setNames(p1, c('x1', 'x3')))"
   ]
  },
  {
   "cell_type": "code",
   "execution_count": 6,
   "metadata": {},
   "outputs": [
    {
     "data": {
      "text/html": [
       "<dl class=dl-horizontal>\n",
       "\t<dt>x1</dt>\n",
       "\t\t<dd>0.02</dd>\n",
       "\t<dt>x3</dt>\n",
       "\t\t<dd>0.001</dd>\n",
       "</dl>\n"
      ],
      "text/latex": [
       "\\begin{description*}\n",
       "\\item[x1] 0.02\n",
       "\\item[x3] 0.001\n",
       "\\end{description*}\n"
      ],
      "text/markdown": [
       "x1\n",
       ":   0.02x3\n",
       ":   0.001\n",
       "\n"
      ],
      "text/plain": [
       "   x1    x3 \n",
       "0.020 0.001 "
      ]
     },
     "metadata": {},
     "output_type": "display_data"
    }
   ],
   "source": [
    "# 再或者\n",
    "p11 <- c(0.02, 0.001)\n",
    "names(p11) <- c('x1', 'x3')\n",
    "p11"
   ]
  },
  {
   "cell_type": "markdown",
   "metadata": {},
   "source": [
    "三种方法都可以的得到我们想要的。传说中的条条大路通罗马。那我们接下来把p11转化为数据框："
   ]
  },
  {
   "cell_type": "code",
   "execution_count": 7,
   "metadata": {},
   "outputs": [
    {
     "data": {
      "text/html": [
       "<table>\n",
       "<thead><tr><th></th><th scope=col>p11</th></tr></thead>\n",
       "<tbody>\n",
       "\t<tr><th scope=row>x1</th><td>0.020</td></tr>\n",
       "\t<tr><th scope=row>x3</th><td>0.001</td></tr>\n",
       "</tbody>\n",
       "</table>\n"
      ],
      "text/latex": [
       "\\begin{tabular}{r|l}\n",
       "  & p11\\\\\n",
       "\\hline\n",
       "\tx1 & 0.020\\\\\n",
       "\tx3 & 0.001\\\\\n",
       "\\end{tabular}\n"
      ],
      "text/markdown": [
       "\n",
       "| <!--/--> | p11 | \n",
       "|---|---|\n",
       "| x1 | 0.020 | \n",
       "| x3 | 0.001 | \n",
       "\n",
       "\n"
      ],
      "text/plain": [
       "   p11  \n",
       "x1 0.020\n",
       "x3 0.001"
      ]
     },
     "metadata": {},
     "output_type": "display_data"
    },
    {
     "name": "stdout",
     "output_type": "stream",
     "text": [
      "'data.frame':\t2 obs. of  1 variable:\n",
      " $ p11: num  0.02 0.001\n"
     ]
    }
   ],
   "source": [
    "(p11.df <- as.data.frame(p11))\n",
    "# p11.df结构\n",
    "str(p11.df)"
   ]
  },
  {
   "cell_type": "markdown",
   "metadata": {},
   "source": [
    "我们可以看到数据框有一个变量名叫p11，也就是我们原来的向量名字。如果这时候我们直接合并是做不到的，因为p11.df没有可以索引的，无法和df1中的variables对应。所以我们要添加一列把p11.df的行名字作为一列。\n",
    "\n",
    "这里要引入来自Hadley大神的`tibble`包，其中有个函数`rownames_to_column()`可以将行名字转换为列，我们看一下："
   ]
  },
  {
   "cell_type": "code",
   "execution_count": 8,
   "metadata": {},
   "outputs": [
    {
     "data": {
      "text/html": [
       "<table>\n",
       "<thead><tr><th scope=col>variables</th><th scope=col>p11</th></tr></thead>\n",
       "<tbody>\n",
       "\t<tr><td>x1   </td><td>0.020</td></tr>\n",
       "\t<tr><td>x3   </td><td>0.001</td></tr>\n",
       "</tbody>\n",
       "</table>\n"
      ],
      "text/latex": [
       "\\begin{tabular}{r|ll}\n",
       " variables & p11\\\\\n",
       "\\hline\n",
       "\t x1    & 0.020\\\\\n",
       "\t x3    & 0.001\\\\\n",
       "\\end{tabular}\n"
      ],
      "text/markdown": [
       "\n",
       "variables | p11 | \n",
       "|---|---|\n",
       "| x1    | 0.020 | \n",
       "| x3    | 0.001 | \n",
       "\n",
       "\n"
      ],
      "text/plain": [
       "  variables p11  \n",
       "1 x1        0.020\n",
       "2 x3        0.001"
      ]
     },
     "metadata": {},
     "output_type": "display_data"
    },
    {
     "name": "stdout",
     "output_type": "stream",
     "text": [
      "'data.frame':\t2 obs. of  2 variables:\n",
      " $ variables: chr  \"x1\" \"x3\"\n",
      " $ p11      : num  0.02 0.001\n"
     ]
    }
   ],
   "source": [
    "# 载入包\n",
    "library(\"tibble\")\n",
    "# 将行名转化为列\n",
    "(p11.df <- rownames_to_column(p11.df, var = 'variables'))\n",
    "str(p11.df)"
   ]
  },
  {
   "cell_type": "markdown",
   "metadata": {},
   "source": [
    "此时已经增加了一列叫‘variables’，那接下来就简单了，直接将p11.df和df合并就可以，合并的方法很多，我们依旧使用Hadley开发的`dplyr`包中的`left_join`函数，当然基础包中的`merge`也能胜任。"
   ]
  },
  {
   "cell_type": "code",
   "execution_count": 9,
   "metadata": {},
   "outputs": [
    {
     "data": {
      "text/html": [
       "<table>\n",
       "<thead><tr><th scope=col>variables</th><th scope=col>mean1</th><th scope=col>mean2</th><th scope=col>p11</th></tr></thead>\n",
       "<tbody>\n",
       "\t<tr><td>x1   </td><td> 5.6 </td><td> 6.5 </td><td>0.020</td></tr>\n",
       "\t<tr><td>x2   </td><td>12.0 </td><td>10.0 </td><td>   NA</td></tr>\n",
       "\t<tr><td>x3   </td><td>24.0 </td><td>30.0 </td><td>0.001</td></tr>\n",
       "</tbody>\n",
       "</table>\n"
      ],
      "text/latex": [
       "\\begin{tabular}{r|llll}\n",
       " variables & mean1 & mean2 & p11\\\\\n",
       "\\hline\n",
       "\t x1    &  5.6  &  6.5  & 0.020\\\\\n",
       "\t x2    & 12.0  & 10.0  &    NA\\\\\n",
       "\t x3    & 24.0  & 30.0  & 0.001\\\\\n",
       "\\end{tabular}\n"
      ],
      "text/markdown": [
       "\n",
       "variables | mean1 | mean2 | p11 | \n",
       "|---|---|---|\n",
       "| x1    |  5.6  |  6.5  | 0.020 | \n",
       "| x2    | 12.0  | 10.0  |    NA | \n",
       "| x3    | 24.0  | 30.0  | 0.001 | \n",
       "\n",
       "\n"
      ],
      "text/plain": [
       "  variables mean1 mean2 p11  \n",
       "1 x1         5.6   6.5  0.020\n",
       "2 x2        12.0  10.0     NA\n",
       "3 x3        24.0  30.0  0.001"
      ]
     },
     "metadata": {},
     "output_type": "display_data"
    }
   ],
   "source": [
    "dplyr::left_join(df1, p11.df, by = 'variables')"
   ]
  },
  {
   "cell_type": "markdown",
   "metadata": {},
   "source": [
    "大功告成！！！"
   ]
  },
  {
   "cell_type": "markdown",
   "metadata": {},
   "source": [
    "其实，有更简单的方法，刚刚我们进行了两步，一步是将p11转化为数据框，再添加了一列变量名。而在大神`tibble`包中有个函数可以直接做到这步，就是```enframe```:"
   ]
  },
  {
   "cell_type": "code",
   "execution_count": 10,
   "metadata": {},
   "outputs": [
    {
     "data": {
      "text/html": [
       "<dl class=dl-horizontal>\n",
       "\t<dt>x1</dt>\n",
       "\t\t<dd>0.02</dd>\n",
       "\t<dt>x3</dt>\n",
       "\t\t<dd>0.001</dd>\n",
       "</dl>\n"
      ],
      "text/latex": [
       "\\begin{description*}\n",
       "\\item[x1] 0.02\n",
       "\\item[x3] 0.001\n",
       "\\end{description*}\n"
      ],
      "text/markdown": [
       "x1\n",
       ":   0.02x3\n",
       ":   0.001\n",
       "\n"
      ],
      "text/plain": [
       "   x1    x3 \n",
       "0.020 0.001 "
      ]
     },
     "metadata": {},
     "output_type": "display_data"
    },
    {
     "data": {
      "text/html": [
       "<table>\n",
       "<thead><tr><th scope=col>variables</th><th scope=col>P value</th></tr></thead>\n",
       "<tbody>\n",
       "\t<tr><td>x1   </td><td>0.020</td></tr>\n",
       "\t<tr><td>x3   </td><td>0.001</td></tr>\n",
       "</tbody>\n",
       "</table>\n"
      ],
      "text/latex": [
       "\\begin{tabular}{r|ll}\n",
       " variables & P value\\\\\n",
       "\\hline\n",
       "\t x1    & 0.020\\\\\n",
       "\t x3    & 0.001\\\\\n",
       "\\end{tabular}\n"
      ],
      "text/markdown": [
       "\n",
       "variables | P value | \n",
       "|---|---|\n",
       "| x1    | 0.020 | \n",
       "| x3    | 0.001 | \n",
       "\n",
       "\n"
      ],
      "text/plain": [
       "  variables P value\n",
       "1 x1        0.020  \n",
       "2 x3        0.001  "
      ]
     },
     "metadata": {},
     "output_type": "display_data"
    }
   ],
   "source": [
    "p11\n",
    "enframe(p11, name = 'variables', value = 'P value')"
   ]
  },
  {
   "cell_type": "markdown",
   "metadata": {},
   "source": [
    "可以看到不仅一步做到了，而且还可以对变量进行命名，感觉是非常的厉害了。"
   ]
  },
  {
   "cell_type": "markdown",
   "metadata": {},
   "source": [
    "## 收工\n",
    "这里面我们是将vector转化为数据框再合并，如果是list的话，需要进行转置，因为转为数据框后list名字变为了数据框的变量名："
   ]
  },
  {
   "cell_type": "code",
   "execution_count": 11,
   "metadata": {},
   "outputs": [
    {
     "data": {
      "text/html": [
       "<dl>\n",
       "\t<dt>$x1</dt>\n",
       "\t\t<dd>0.02</dd>\n",
       "\t<dt>$x3</dt>\n",
       "\t\t<dd>0.001</dd>\n",
       "</dl>\n"
      ],
      "text/latex": [
       "\\begin{description}\n",
       "\\item[\\$x1] 0.02\n",
       "\\item[\\$x3] 0.001\n",
       "\\end{description}\n"
      ],
      "text/markdown": [
       "$x1\n",
       ":   0.02\n",
       "$x3\n",
       ":   0.001\n",
       "\n",
       "\n"
      ],
      "text/plain": [
       "$x1\n",
       "[1] 0.02\n",
       "\n",
       "$x3\n",
       "[1] 0.001\n"
      ]
     },
     "metadata": {},
     "output_type": "display_data"
    },
    {
     "name": "stdout",
     "output_type": "stream",
     "text": [
      "List of 2\n",
      " $ x1: num 0.02\n",
      " $ x3: num 0.001\n"
     ]
    }
   ],
   "source": [
    "(q11 <- list(x1 = 0.02, x3 = 0.001))\n",
    "str(q11)"
   ]
  },
  {
   "cell_type": "code",
   "execution_count": 12,
   "metadata": {},
   "outputs": [
    {
     "data": {
      "text/html": [
       "<table>\n",
       "<thead><tr><th scope=col>x1</th><th scope=col>x3</th></tr></thead>\n",
       "<tbody>\n",
       "\t<tr><td>0.02 </td><td>0.001</td></tr>\n",
       "</tbody>\n",
       "</table>\n"
      ],
      "text/latex": [
       "\\begin{tabular}{r|ll}\n",
       " x1 & x3\\\\\n",
       "\\hline\n",
       "\t 0.02  & 0.001\\\\\n",
       "\\end{tabular}\n"
      ],
      "text/markdown": [
       "\n",
       "x1 | x3 | \n",
       "|---|\n",
       "| 0.02  | 0.001 | \n",
       "\n",
       "\n"
      ],
      "text/plain": [
       "  x1   x3   \n",
       "1 0.02 0.001"
      ]
     },
     "metadata": {},
     "output_type": "display_data"
    }
   ],
   "source": [
    "as.data.frame(q11)"
   ]
  },
  {
   "cell_type": "markdown",
   "metadata": {},
   "source": [
    "这样我们就要再转置为宽数据格式，其实可以通过`reshape2`包中的`melt`函数完成："
   ]
  },
  {
   "cell_type": "code",
   "execution_count": 13,
   "metadata": {},
   "outputs": [
    {
     "data": {
      "text/html": [
       "<table>\n",
       "<thead><tr><th scope=col>value</th><th scope=col>L1</th></tr></thead>\n",
       "<tbody>\n",
       "\t<tr><td>0.020</td><td>x1   </td></tr>\n",
       "\t<tr><td>0.001</td><td>x3   </td></tr>\n",
       "</tbody>\n",
       "</table>\n"
      ],
      "text/latex": [
       "\\begin{tabular}{r|ll}\n",
       " value & L1\\\\\n",
       "\\hline\n",
       "\t 0.020 & x1   \\\\\n",
       "\t 0.001 & x3   \\\\\n",
       "\\end{tabular}\n"
      ],
      "text/markdown": [
       "\n",
       "value | L1 | \n",
       "|---|---|\n",
       "| 0.020 | x1    | \n",
       "| 0.001 | x3    | \n",
       "\n",
       "\n"
      ],
      "text/plain": [
       "  value L1\n",
       "1 0.020 x1\n",
       "2 0.001 x3"
      ]
     },
     "metadata": {},
     "output_type": "display_data"
    }
   ],
   "source": [
    "reshape2::melt(q11)"
   ]
  },
  {
   "cell_type": "markdown",
   "metadata": {},
   "source": [
    "可以看到也是一步完成了，不过要再对数据框进行变量重新命名才能进行合并。那么这里大家肯定会想，如果用`enframe`函数会怎样呢？我们来看一看："
   ]
  },
  {
   "cell_type": "code",
   "execution_count": 14,
   "metadata": {},
   "outputs": [
    {
     "data": {
      "text/html": [
       "<table>\n",
       "<thead><tr><th scope=col>name</th><th scope=col>value</th></tr></thead>\n",
       "<tbody>\n",
       "\t<tr><td>x1  </td><td>0.02</td></tr>\n",
       "\t<tr><td>x3   </td><td>0.001</td></tr>\n",
       "</tbody>\n",
       "</table>\n"
      ],
      "text/latex": [
       "\\begin{tabular}{r|ll}\n",
       " name & value\\\\\n",
       "\\hline\n",
       "\t x1   & 0.02\\\\\n",
       "\t x3    & 0.001\\\\\n",
       "\\end{tabular}\n"
      ],
      "text/markdown": [
       "\n",
       "name | value | \n",
       "|---|---|\n",
       "| x1   | 0.02 | \n",
       "| x3    | 0.001 | \n",
       "\n",
       "\n"
      ],
      "text/plain": [
       "  name value\n",
       "1 x1   0.02 \n",
       "2 x3   0.001"
      ]
     },
     "metadata": {},
     "output_type": "display_data"
    },
    {
     "name": "stdout",
     "output_type": "stream",
     "text": [
      "Classes 'tbl_df', 'tbl' and 'data.frame':\t2 obs. of  2 variables:\n",
      " $ name : chr  \"x1\" \"x3\"\n",
      " $ value:List of 2\n",
      "  ..$ : num 0.02\n",
      "  ..$ : num 0.001\n"
     ]
    }
   ],
   "source": [
    "enframe(q11)\n",
    "str(enframe(q11))"
   ]
  },
  {
   "cell_type": "markdown",
   "metadata": {},
   "source": [
    "也是一步完成，但是，这看上去是一步完成，我们仔细看下这个的数据结构，发现变量value下面的值是两个列表，厉害了~在数据框中的一个变量下面的值还可以是一个列表。其实这个函数最初开发出来的主要目的就是在为了将列表完美的储存在数据框中，而这个的好处呢，不在今天的话题，以后再说吧~"
   ]
  },
  {
   "cell_type": "markdown",
   "metadata": {},
   "source": [
    "## 总结\n",
    "说了这么多，今天的操作其实很简单，就是将向量或者列表转为数据框，然后顺带处理一下数据框的行名。"
   ]
  }
 ],
 "metadata": {
  "kernelspec": {
   "display_name": "R",
   "language": "R",
   "name": "ir"
  },
  "language_info": {
   "codemirror_mode": "r",
   "file_extension": ".r",
   "mimetype": "text/x-r-source",
   "name": "R",
   "pygments_lexer": "r",
   "version": "3.4.1"
  }
 },
 "nbformat": 4,
 "nbformat_minor": 2
}
